{
 "cells": [
  {
   "cell_type": "markdown",
   "id": "a8e5307e",
   "metadata": {},
   "source": [
    "## Admission Chance Prediction\n",
    "Admission chances prediction using machine learning (ML) models involves analyzing historical data and patterns to make predictions about the likelihood of an applicant being admitted to a particular institution or program. Here's a general overview of how an ML model can be trained and used for admission chances prediction:\n",
    "\n",
    "🖊️ Data Collection\n",
    "\n",
    "🖊️ Data Preprocessing\n",
    "\n",
    "🖊️ Feature Selection\n",
    "\n",
    "🖊️ Model Training\n",
    "\n",
    "🖊️ Model Evaluation\n",
    "\n",
    "🖊️ Prediction and Decision Making"
   ]
  },
  {
   "cell_type": "markdown",
   "id": "cc71aa2f",
   "metadata": {},
   "source": [
    "#### Importing necessary libraries"
   ]
  },
  {
   "cell_type": "code",
   "execution_count": 1,
   "id": "7517c1b5",
   "metadata": {},
   "outputs": [],
   "source": [
    "import pandas as pd \n",
    "from sklearn.model_selection import train_test_split\n",
    "from sklearn.linear_model import LinearRegression"
   ]
  },
  {
   "cell_type": "markdown",
   "id": "10b18781",
   "metadata": {},
   "source": [
    "#### read the dataset"
   ]
  },
  {
   "cell_type": "code",
   "execution_count": 6,
   "id": "8e696691",
   "metadata": {},
   "outputs": [],
   "source": [
    "data = pd.read_csv('F:\\PROJECT\\Projects Completed\\Admission Chances Prediction\\Admission Chance.csv')"
   ]
  },
  {
   "cell_type": "code",
   "execution_count": 7,
   "id": "6f223c99",
   "metadata": {},
   "outputs": [
    {
     "name": "stdout",
     "output_type": "stream",
     "text": [
      "<class 'pandas.core.frame.DataFrame'>\n",
      "RangeIndex: 400 entries, 0 to 399\n",
      "Data columns (total 9 columns):\n",
      " #   Column             Non-Null Count  Dtype  \n",
      "---  ------             --------------  -----  \n",
      " 0   Serial No          400 non-null    int64  \n",
      " 1   GRE Score          400 non-null    int64  \n",
      " 2   TOEFL Score        400 non-null    int64  \n",
      " 3   University Rating  400 non-null    int64  \n",
      " 4    SOP               400 non-null    float64\n",
      " 5   LOR                400 non-null    float64\n",
      " 6   CGPA               400 non-null    float64\n",
      " 7   Research           400 non-null    int64  \n",
      " 8   Chance of Admit    400 non-null    float64\n",
      "dtypes: float64(4), int64(5)\n",
      "memory usage: 28.2 KB\n"
     ]
    }
   ],
   "source": [
    "data.info()"
   ]
  },
  {
   "cell_type": "code",
   "execution_count": 8,
   "id": "851f6a61",
   "metadata": {},
   "outputs": [
    {
     "data": {
      "text/html": [
       "<div>\n",
       "<style scoped>\n",
       "    .dataframe tbody tr th:only-of-type {\n",
       "        vertical-align: middle;\n",
       "    }\n",
       "\n",
       "    .dataframe tbody tr th {\n",
       "        vertical-align: top;\n",
       "    }\n",
       "\n",
       "    .dataframe thead th {\n",
       "        text-align: right;\n",
       "    }\n",
       "</style>\n",
       "<table border=\"1\" class=\"dataframe\">\n",
       "  <thead>\n",
       "    <tr style=\"text-align: right;\">\n",
       "      <th></th>\n",
       "      <th>Serial No</th>\n",
       "      <th>GRE Score</th>\n",
       "      <th>TOEFL Score</th>\n",
       "      <th>University Rating</th>\n",
       "      <th>SOP</th>\n",
       "      <th>LOR</th>\n",
       "      <th>CGPA</th>\n",
       "      <th>Research</th>\n",
       "      <th>Chance of Admit</th>\n",
       "    </tr>\n",
       "  </thead>\n",
       "  <tbody>\n",
       "    <tr>\n",
       "      <th>count</th>\n",
       "      <td>400.000000</td>\n",
       "      <td>400.000000</td>\n",
       "      <td>400.000000</td>\n",
       "      <td>400.000000</td>\n",
       "      <td>400.000000</td>\n",
       "      <td>400.000000</td>\n",
       "      <td>400.000000</td>\n",
       "      <td>400.000000</td>\n",
       "      <td>400.000000</td>\n",
       "    </tr>\n",
       "    <tr>\n",
       "      <th>mean</th>\n",
       "      <td>200.500000</td>\n",
       "      <td>316.807500</td>\n",
       "      <td>107.410000</td>\n",
       "      <td>3.087500</td>\n",
       "      <td>3.400000</td>\n",
       "      <td>3.452500</td>\n",
       "      <td>8.598925</td>\n",
       "      <td>0.547500</td>\n",
       "      <td>0.724350</td>\n",
       "    </tr>\n",
       "    <tr>\n",
       "      <th>std</th>\n",
       "      <td>115.614301</td>\n",
       "      <td>11.473646</td>\n",
       "      <td>6.069514</td>\n",
       "      <td>1.143728</td>\n",
       "      <td>1.006869</td>\n",
       "      <td>0.898478</td>\n",
       "      <td>0.596317</td>\n",
       "      <td>0.498362</td>\n",
       "      <td>0.142609</td>\n",
       "    </tr>\n",
       "    <tr>\n",
       "      <th>min</th>\n",
       "      <td>1.000000</td>\n",
       "      <td>290.000000</td>\n",
       "      <td>92.000000</td>\n",
       "      <td>1.000000</td>\n",
       "      <td>1.000000</td>\n",
       "      <td>1.000000</td>\n",
       "      <td>6.800000</td>\n",
       "      <td>0.000000</td>\n",
       "      <td>0.340000</td>\n",
       "    </tr>\n",
       "    <tr>\n",
       "      <th>25%</th>\n",
       "      <td>100.750000</td>\n",
       "      <td>308.000000</td>\n",
       "      <td>103.000000</td>\n",
       "      <td>2.000000</td>\n",
       "      <td>2.500000</td>\n",
       "      <td>3.000000</td>\n",
       "      <td>8.170000</td>\n",
       "      <td>0.000000</td>\n",
       "      <td>0.640000</td>\n",
       "    </tr>\n",
       "    <tr>\n",
       "      <th>50%</th>\n",
       "      <td>200.500000</td>\n",
       "      <td>317.000000</td>\n",
       "      <td>107.000000</td>\n",
       "      <td>3.000000</td>\n",
       "      <td>3.500000</td>\n",
       "      <td>3.500000</td>\n",
       "      <td>8.610000</td>\n",
       "      <td>1.000000</td>\n",
       "      <td>0.730000</td>\n",
       "    </tr>\n",
       "    <tr>\n",
       "      <th>75%</th>\n",
       "      <td>300.250000</td>\n",
       "      <td>325.000000</td>\n",
       "      <td>112.000000</td>\n",
       "      <td>4.000000</td>\n",
       "      <td>4.000000</td>\n",
       "      <td>4.000000</td>\n",
       "      <td>9.062500</td>\n",
       "      <td>1.000000</td>\n",
       "      <td>0.830000</td>\n",
       "    </tr>\n",
       "    <tr>\n",
       "      <th>max</th>\n",
       "      <td>400.000000</td>\n",
       "      <td>340.000000</td>\n",
       "      <td>120.000000</td>\n",
       "      <td>5.000000</td>\n",
       "      <td>5.000000</td>\n",
       "      <td>5.000000</td>\n",
       "      <td>9.920000</td>\n",
       "      <td>1.000000</td>\n",
       "      <td>0.970000</td>\n",
       "    </tr>\n",
       "  </tbody>\n",
       "</table>\n",
       "</div>"
      ],
      "text/plain": [
       "        Serial No   GRE Score  TOEFL Score  University Rating         SOP  \\\n",
       "count  400.000000  400.000000   400.000000         400.000000  400.000000   \n",
       "mean   200.500000  316.807500   107.410000           3.087500    3.400000   \n",
       "std    115.614301   11.473646     6.069514           1.143728    1.006869   \n",
       "min      1.000000  290.000000    92.000000           1.000000    1.000000   \n",
       "25%    100.750000  308.000000   103.000000           2.000000    2.500000   \n",
       "50%    200.500000  317.000000   107.000000           3.000000    3.500000   \n",
       "75%    300.250000  325.000000   112.000000           4.000000    4.000000   \n",
       "max    400.000000  340.000000   120.000000           5.000000    5.000000   \n",
       "\n",
       "             LOR         CGPA    Research  Chance of Admit   \n",
       "count  400.000000  400.000000  400.000000        400.000000  \n",
       "mean     3.452500    8.598925    0.547500          0.724350  \n",
       "std      0.898478    0.596317    0.498362          0.142609  \n",
       "min      1.000000    6.800000    0.000000          0.340000  \n",
       "25%      3.000000    8.170000    0.000000          0.640000  \n",
       "50%      3.500000    8.610000    1.000000          0.730000  \n",
       "75%      4.000000    9.062500    1.000000          0.830000  \n",
       "max      5.000000    9.920000    1.000000          0.970000  "
      ]
     },
     "execution_count": 8,
     "metadata": {},
     "output_type": "execute_result"
    }
   ],
   "source": [
    "data.describe()"
   ]
  },
  {
   "cell_type": "code",
   "execution_count": 9,
   "id": "35be67bb",
   "metadata": {},
   "outputs": [
    {
     "data": {
      "text/plain": [
       "Index(['Serial No', 'GRE Score', 'TOEFL Score', 'University Rating', ' SOP',\n",
       "       'LOR ', 'CGPA', 'Research', 'Chance of Admit '],\n",
       "      dtype='object')"
      ]
     },
     "execution_count": 9,
     "metadata": {},
     "output_type": "execute_result"
    }
   ],
   "source": [
    "data.columns"
   ]
  },
  {
   "cell_type": "code",
   "execution_count": 12,
   "id": "e2087606",
   "metadata": {},
   "outputs": [],
   "source": [
    "y = data['Chance of Admit ']\n",
    "x = data.drop(['Serial No','Chance of Admit '],axis=1)"
   ]
  },
  {
   "cell_type": "code",
   "execution_count": 14,
   "id": "861df82b",
   "metadata": {},
   "outputs": [],
   "source": [
    "xtrain, xtest, ytrain, ytest = train_test_split(x,y, train_size=0.7)"
   ]
  },
  {
   "cell_type": "code",
   "execution_count": 15,
   "id": "4add3903",
   "metadata": {},
   "outputs": [
    {
     "name": "stdout",
     "output_type": "stream",
     "text": [
      "(280, 7) (120, 7) (280,) (120,)\n"
     ]
    }
   ],
   "source": [
    "print(xtrain.shape, xtest.shape, ytrain.shape, ytest.shape)"
   ]
  },
  {
   "cell_type": "code",
   "execution_count": 16,
   "id": "9d3564c3",
   "metadata": {},
   "outputs": [],
   "source": [
    "model = LinearRegression()"
   ]
  },
  {
   "cell_type": "code",
   "execution_count": 17,
   "id": "ceed78b5",
   "metadata": {},
   "outputs": [
    {
     "data": {
      "text/plain": [
       "LinearRegression()"
      ]
     },
     "execution_count": 17,
     "metadata": {},
     "output_type": "execute_result"
    }
   ],
   "source": [
    "model.fit(xtrain, ytrain)"
   ]
  },
  {
   "cell_type": "code",
   "execution_count": 18,
   "id": "2c867de4",
   "metadata": {},
   "outputs": [],
   "source": [
    "ypredict = model.predict(xtest)"
   ]
  },
  {
   "cell_type": "code",
   "execution_count": 19,
   "id": "55b652aa",
   "metadata": {},
   "outputs": [
    {
     "data": {
      "text/plain": [
       "array([0.56024242, 0.81247169, 0.83219284, 0.45612003, 0.95054717,\n",
       "       0.52452327, 0.83464043, 0.95223281, 0.66346532, 0.79261118,\n",
       "       0.67292056, 0.74502419, 0.65650513, 0.91248502, 0.86392042,\n",
       "       0.7484527 , 0.66807989, 0.65347456, 0.8533052 , 0.54974903,\n",
       "       0.74005553, 0.49491606, 0.53775299, 0.54418061, 0.75052188,\n",
       "       0.5258119 , 0.69378344, 0.60124496, 0.57723768, 0.77013213,\n",
       "       0.73677186, 0.58212704, 0.8534671 , 0.6563477 , 0.82649203,\n",
       "       0.72531758, 0.80232171, 0.81011317, 0.95521871, 0.85900018,\n",
       "       0.69176348, 0.68824492, 0.67138921, 0.64557464, 0.55607476,\n",
       "       0.59046843, 0.9258139 , 0.60559474, 0.68754865, 0.84827761,\n",
       "       0.96191704, 0.67664591, 0.65041786, 0.70941106, 0.45783642,\n",
       "       0.70235732, 0.60152483, 0.60940163, 0.52779678, 0.66288221,\n",
       "       0.66736185, 0.76213203, 0.83753601, 0.82844677, 0.64789628,\n",
       "       0.73194791, 0.70676817, 0.65096808, 0.7966019 , 0.5410927 ,\n",
       "       0.95042572, 0.56202699, 0.44664239, 0.65319865, 0.88864654,\n",
       "       0.63589236, 0.57317985, 0.57863689, 0.66600449, 0.65977871,\n",
       "       0.75843751, 0.81179847, 0.84175696, 0.77364289, 0.65722134,\n",
       "       0.52208196, 0.89423821, 0.6922933 , 0.68593511, 0.82839471,\n",
       "       0.82795716, 0.62665032, 0.7297779 , 0.87398276, 0.77379312,\n",
       "       0.49829979, 0.63229624, 0.65028773, 0.82058465, 0.71413238,\n",
       "       0.70653459, 0.7716053 , 0.78506587, 0.65773319, 0.93808037,\n",
       "       0.85963294, 0.69731831, 0.73061184, 0.81001077, 0.8468818 ,\n",
       "       0.57565441, 0.63529568, 0.8259023 , 0.9003552 , 0.6774717 ,\n",
       "       0.56943895, 0.71701763, 0.61327517, 0.65900364, 0.68000413])"
      ]
     },
     "execution_count": 19,
     "metadata": {},
     "output_type": "execute_result"
    }
   ],
   "source": [
    "ypredict"
   ]
  },
  {
   "cell_type": "code",
   "execution_count": 21,
   "id": "b4ff1c28",
   "metadata": {},
   "outputs": [
    {
     "data": {
      "text/plain": [
       "77.64442376198024"
      ]
     },
     "execution_count": 21,
     "metadata": {},
     "output_type": "execute_result"
    }
   ],
   "source": [
    "model.score(xtest, ytest)*100"
   ]
  },
  {
   "cell_type": "markdown",
   "id": "c45bc128",
   "metadata": {},
   "source": [
    "### Predicting with random data"
   ]
  },
  {
   "cell_type": "code",
   "execution_count": 23,
   "id": "7fbd8b51",
   "metadata": {},
   "outputs": [],
   "source": [
    "test1 = data.sample(1)"
   ]
  },
  {
   "cell_type": "code",
   "execution_count": 24,
   "id": "f0ddcfbf",
   "metadata": {},
   "outputs": [
    {
     "data": {
      "text/html": [
       "<div>\n",
       "<style scoped>\n",
       "    .dataframe tbody tr th:only-of-type {\n",
       "        vertical-align: middle;\n",
       "    }\n",
       "\n",
       "    .dataframe tbody tr th {\n",
       "        vertical-align: top;\n",
       "    }\n",
       "\n",
       "    .dataframe thead th {\n",
       "        text-align: right;\n",
       "    }\n",
       "</style>\n",
       "<table border=\"1\" class=\"dataframe\">\n",
       "  <thead>\n",
       "    <tr style=\"text-align: right;\">\n",
       "      <th></th>\n",
       "      <th>Serial No</th>\n",
       "      <th>GRE Score</th>\n",
       "      <th>TOEFL Score</th>\n",
       "      <th>University Rating</th>\n",
       "      <th>SOP</th>\n",
       "      <th>LOR</th>\n",
       "      <th>CGPA</th>\n",
       "      <th>Research</th>\n",
       "      <th>Chance of Admit</th>\n",
       "    </tr>\n",
       "  </thead>\n",
       "  <tbody>\n",
       "    <tr>\n",
       "      <th>319</th>\n",
       "      <td>320</td>\n",
       "      <td>327</td>\n",
       "      <td>113</td>\n",
       "      <td>4</td>\n",
       "      <td>3.5</td>\n",
       "      <td>3.0</td>\n",
       "      <td>8.69</td>\n",
       "      <td>1</td>\n",
       "      <td>0.8</td>\n",
       "    </tr>\n",
       "  </tbody>\n",
       "</table>\n",
       "</div>"
      ],
      "text/plain": [
       "     Serial No  GRE Score  TOEFL Score  University Rating   SOP  LOR   CGPA  \\\n",
       "319        320        327          113                  4   3.5   3.0  8.69   \n",
       "\n",
       "     Research  Chance of Admit   \n",
       "319         1               0.8  "
      ]
     },
     "execution_count": 24,
     "metadata": {},
     "output_type": "execute_result"
    }
   ],
   "source": [
    "test1"
   ]
  },
  {
   "cell_type": "code",
   "execution_count": 27,
   "id": "503e86e0",
   "metadata": {},
   "outputs": [],
   "source": [
    "test1 = test1.drop(['Serial No','Chance of Admit '],axis=1) "
   ]
  },
  {
   "cell_type": "code",
   "execution_count": 28,
   "id": "9df1a7b9",
   "metadata": {},
   "outputs": [],
   "source": [
    "predict1 = model.predict(a)"
   ]
  },
  {
   "cell_type": "code",
   "execution_count": 29,
   "id": "eac1723d",
   "metadata": {},
   "outputs": [
    {
     "data": {
      "text/plain": [
       "array([0.77552011])"
      ]
     },
     "execution_count": 29,
     "metadata": {},
     "output_type": "execute_result"
    }
   ],
   "source": [
    "predict1"
   ]
  },
  {
   "cell_type": "code",
   "execution_count": 1,
   "id": "00568ec5",
   "metadata": {},
   "outputs": [
    {
     "ename": "NameError",
     "evalue": "name 'test1' is not defined",
     "output_type": "error",
     "traceback": [
      "\u001b[1;31m---------------------------------------------------------------------------\u001b[0m",
      "\u001b[1;31mNameError\u001b[0m                                 Traceback (most recent call last)",
      "\u001b[1;32m~\\AppData\\Local\\Temp\\ipykernel_14300\\3467602618.py\u001b[0m in \u001b[0;36m<module>\u001b[1;34m\u001b[0m\n\u001b[1;32m----> 1\u001b[1;33m \u001b[0mtype\u001b[0m\u001b[1;33m(\u001b[0m\u001b[0mtest1\u001b[0m\u001b[1;33m)\u001b[0m\u001b[1;33m\u001b[0m\u001b[1;33m\u001b[0m\u001b[0m\n\u001b[0m",
      "\u001b[1;31mNameError\u001b[0m: name 'test1' is not defined"
     ]
    }
   ],
   "source": []
  },
  {
   "cell_type": "code",
   "execution_count": null,
   "id": "8340d1c0",
   "metadata": {},
   "outputs": [],
   "source": []
  }
 ],
 "metadata": {
  "kernelspec": {
   "display_name": "Python 3 (ipykernel)",
   "language": "python",
   "name": "python3"
  },
  "language_info": {
   "codemirror_mode": {
    "name": "ipython",
    "version": 3
   },
   "file_extension": ".py",
   "mimetype": "text/x-python",
   "name": "python",
   "nbconvert_exporter": "python",
   "pygments_lexer": "ipython3",
   "version": "3.9.13"
  }
 },
 "nbformat": 4,
 "nbformat_minor": 5
}
